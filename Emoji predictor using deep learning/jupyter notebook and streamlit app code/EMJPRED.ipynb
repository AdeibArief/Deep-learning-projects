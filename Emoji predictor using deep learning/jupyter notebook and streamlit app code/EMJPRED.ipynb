{
 "cells": [
  {
   "cell_type": "markdown",
   "metadata": {},
   "source": [
    "# EDA And Preprocessing"
   ]
  },
  {
   "cell_type": "code",
   "execution_count": 11,
   "metadata": {},
   "outputs": [],
   "source": [
    "import numpy as np \n",
    "import pandas as pd\n",
    "import os\n",
    "import matplotlib.pyplot as plt\n",
    "import seaborn as sns\n"
   ]
  },
  {
   "cell_type": "code",
   "execution_count": 12,
   "metadata": {},
   "outputs": [],
   "source": [
    "train_txt_raw=open('data/us_train.text','r',encoding='utf-8')\n",
    "train_txt_labels=open('data/us_train.labels','r',encoding='utf-8')\n",
    "\n",
    "train_txt=[]\n",
    "train_labels=[]\n",
    "\n",
    "\n",
    "for sentence in train_txt_raw:\n",
    "    sentence=sentence.rstrip()\n",
    "    train_txt.append(sentence)\n",
    "\n",
    "for sentence in train_txt_labels:\n",
    "    sentence=sentence.rstrip()\n",
    "    train_labels.append(sentence)"
   ]
  },
  {
   "cell_type": "code",
   "execution_count": 13,
   "metadata": {},
   "outputs": [],
   "source": [
    "df=pd.DataFrame()\n",
    "df['tweet']=train_txt\n",
    "df['labels']=train_labels"
   ]
  },
  {
   "cell_type": "code",
   "execution_count": 14,
   "metadata": {},
   "outputs": [
    {
     "data": {
      "text/html": [
       "<div>\n",
       "<style scoped>\n",
       "    .dataframe tbody tr th:only-of-type {\n",
       "        vertical-align: middle;\n",
       "    }\n",
       "\n",
       "    .dataframe tbody tr th {\n",
       "        vertical-align: top;\n",
       "    }\n",
       "\n",
       "    .dataframe thead th {\n",
       "        text-align: right;\n",
       "    }\n",
       "</style>\n",
       "<table border=\"1\" class=\"dataframe\">\n",
       "  <thead>\n",
       "    <tr style=\"text-align: right;\">\n",
       "      <th></th>\n",
       "      <th>tweet</th>\n",
       "      <th>labels</th>\n",
       "    </tr>\n",
       "  </thead>\n",
       "  <tbody>\n",
       "    <tr>\n",
       "      <th>0</th>\n",
       "      <td>A little throwback with my favourite person @ ...</td>\n",
       "      <td>0</td>\n",
       "    </tr>\n",
       "    <tr>\n",
       "      <th>1</th>\n",
       "      <td>glam on @user yesterday for #kcon makeup using...</td>\n",
       "      <td>7</td>\n",
       "    </tr>\n",
       "    <tr>\n",
       "      <th>2</th>\n",
       "      <td>Democracy Plaza in the wake of a stunning outc...</td>\n",
       "      <td>11</td>\n",
       "    </tr>\n",
       "    <tr>\n",
       "      <th>3</th>\n",
       "      <td>Then &amp;amp; Now. VILO @ Walt Disney Magic Kingdom</td>\n",
       "      <td>0</td>\n",
       "    </tr>\n",
       "    <tr>\n",
       "      <th>4</th>\n",
       "      <td>Who never... @ A Galaxy Far Far Away</td>\n",
       "      <td>2</td>\n",
       "    </tr>\n",
       "    <tr>\n",
       "      <th>...</th>\n",
       "      <td>...</td>\n",
       "      <td>...</td>\n",
       "    </tr>\n",
       "    <tr>\n",
       "      <th>49995</th>\n",
       "      <td>My #O2otd Love this chain so much and our new ...</td>\n",
       "      <td>1</td>\n",
       "    </tr>\n",
       "    <tr>\n",
       "      <th>49996</th>\n",
       "      <td>Met Santa and Olaf @ the North Pole today @ No...</td>\n",
       "      <td>0</td>\n",
       "    </tr>\n",
       "    <tr>\n",
       "      <th>49997</th>\n",
       "      <td>New York by Night Strideby #HERElocationNYC......</td>\n",
       "      <td>11</td>\n",
       "    </tr>\n",
       "    <tr>\n",
       "      <th>49998</th>\n",
       "      <td>Kisses for the birthday girl! @ Helzberg Diamonds</td>\n",
       "      <td>0</td>\n",
       "    </tr>\n",
       "    <tr>\n",
       "      <th>49999</th>\n",
       "      <td>Dinner with this priceless view!Thank you, S #...</td>\n",
       "      <td>9</td>\n",
       "    </tr>\n",
       "  </tbody>\n",
       "</table>\n",
       "<p>50000 rows × 2 columns</p>\n",
       "</div>"
      ],
      "text/plain": [
       "                                                   tweet labels\n",
       "0      A little throwback with my favourite person @ ...      0\n",
       "1      glam on @user yesterday for #kcon makeup using...      7\n",
       "2      Democracy Plaza in the wake of a stunning outc...     11\n",
       "3       Then &amp; Now. VILO @ Walt Disney Magic Kingdom      0\n",
       "4                   Who never... @ A Galaxy Far Far Away      2\n",
       "...                                                  ...    ...\n",
       "49995  My #O2otd Love this chain so much and our new ...      1\n",
       "49996  Met Santa and Olaf @ the North Pole today @ No...      0\n",
       "49997  New York by Night Strideby #HERElocationNYC......     11\n",
       "49998  Kisses for the birthday girl! @ Helzberg Diamonds      0\n",
       "49999  Dinner with this priceless view!Thank you, S #...      9\n",
       "\n",
       "[50000 rows x 2 columns]"
      ]
     },
     "execution_count": 14,
     "metadata": {},
     "output_type": "execute_result"
    }
   ],
   "source": [
    "df"
   ]
  },
  {
   "cell_type": "code",
   "execution_count": 15,
   "metadata": {},
   "outputs": [],
   "source": [
    "emoji_raw=open('data/us_mapping.txt','r',encoding='utf-8')"
   ]
  },
  {
   "cell_type": "code",
   "execution_count": 16,
   "metadata": {},
   "outputs": [
    {
     "name": "stdout",
     "output_type": "stream",
     "text": [
      "0\t❤️\t Red heart\t\n",
      "\n",
      "1\t😍\t Smiling face with hearteyes\t\n",
      "\n",
      "2\t😂\t Face with tears of joy\t\n",
      "\n",
      "3\t💕\t Two hearts\n",
      "\n",
      "4\t🔥\t Fire\n",
      "\n",
      "5\t😊\t Smiling face with smiling eyes\t\n",
      "\n",
      "6\t😎\t Smiling face with sunglasses\t\n",
      "\n",
      "7\t✨\t Sparkles \t\n",
      "\n",
      "8\t💙\t Blue heart\n",
      "\n",
      "9\t😘\t Face blowing a kiss\t\n",
      "\n",
      "10\t📷\t Camera\t\n",
      "\n",
      "11\t🇺🇸\t United States\t\n",
      "\n",
      "12\t☀️\t Sun\n",
      "\n",
      "13\t💜\t Purple heart \t\n",
      "\n",
      "14\t😉\t Winking face\t\n",
      "\n",
      "15\t💯\t Hundred points\t\n",
      "\n",
      "16\t😁\t Beaming face with smiling eyes\t\n",
      "\n",
      "17\t🎄\tChristmas tree\t\n",
      "\n",
      "18\t📸\tCamera with flash\n",
      "\n",
      "19\t😜\tWinking face with tongue\t\n",
      "\n"
     ]
    }
   ],
   "source": [
    "emojis=[]\n",
    "for sentence in emoji_raw:\n",
    "    print(sentence)\n",
    "    sentence = sentence.rstrip()\n",
    "    emojis.append(sentence)"
   ]
  },
  {
   "cell_type": "code",
   "execution_count": 17,
   "metadata": {},
   "outputs": [],
   "source": [
    "emos=[]\n",
    "mapp=[]\n",
    "desc=[]\n",
    "\n",
    "\n",
    "for e in emojis:\n",
    "    emos.append(e.split()[1])\n",
    "    mapp.append(e.split()[0])\n",
    "    desc.append(' '.join(e.split()[2:]))\n",
    "\n",
    "df_em=pd.DataFrame({'labels':mapp})\n",
    "df_em['emoji']=emos\n",
    "df_em['Description']=desc"
   ]
  },
  {
   "cell_type": "code",
   "execution_count": 18,
   "metadata": {},
   "outputs": [
    {
     "data": {
      "text/html": [
       "<div>\n",
       "<style scoped>\n",
       "    .dataframe tbody tr th:only-of-type {\n",
       "        vertical-align: middle;\n",
       "    }\n",
       "\n",
       "    .dataframe tbody tr th {\n",
       "        vertical-align: top;\n",
       "    }\n",
       "\n",
       "    .dataframe thead th {\n",
       "        text-align: right;\n",
       "    }\n",
       "</style>\n",
       "<table border=\"1\" class=\"dataframe\">\n",
       "  <thead>\n",
       "    <tr style=\"text-align: right;\">\n",
       "      <th></th>\n",
       "      <th>labels</th>\n",
       "      <th>emoji</th>\n",
       "      <th>Description</th>\n",
       "    </tr>\n",
       "  </thead>\n",
       "  <tbody>\n",
       "    <tr>\n",
       "      <th>0</th>\n",
       "      <td>0</td>\n",
       "      <td>❤️</td>\n",
       "      <td>Red heart</td>\n",
       "    </tr>\n",
       "    <tr>\n",
       "      <th>1</th>\n",
       "      <td>1</td>\n",
       "      <td>😍</td>\n",
       "      <td>Smiling face with hearteyes</td>\n",
       "    </tr>\n",
       "    <tr>\n",
       "      <th>2</th>\n",
       "      <td>2</td>\n",
       "      <td>😂</td>\n",
       "      <td>Face with tears of joy</td>\n",
       "    </tr>\n",
       "    <tr>\n",
       "      <th>3</th>\n",
       "      <td>3</td>\n",
       "      <td>💕</td>\n",
       "      <td>Two hearts</td>\n",
       "    </tr>\n",
       "    <tr>\n",
       "      <th>4</th>\n",
       "      <td>4</td>\n",
       "      <td>🔥</td>\n",
       "      <td>Fire</td>\n",
       "    </tr>\n",
       "    <tr>\n",
       "      <th>5</th>\n",
       "      <td>5</td>\n",
       "      <td>😊</td>\n",
       "      <td>Smiling face with smiling eyes</td>\n",
       "    </tr>\n",
       "    <tr>\n",
       "      <th>6</th>\n",
       "      <td>6</td>\n",
       "      <td>😎</td>\n",
       "      <td>Smiling face with sunglasses</td>\n",
       "    </tr>\n",
       "    <tr>\n",
       "      <th>7</th>\n",
       "      <td>7</td>\n",
       "      <td>✨</td>\n",
       "      <td>Sparkles</td>\n",
       "    </tr>\n",
       "    <tr>\n",
       "      <th>8</th>\n",
       "      <td>8</td>\n",
       "      <td>💙</td>\n",
       "      <td>Blue heart</td>\n",
       "    </tr>\n",
       "    <tr>\n",
       "      <th>9</th>\n",
       "      <td>9</td>\n",
       "      <td>😘</td>\n",
       "      <td>Face blowing a kiss</td>\n",
       "    </tr>\n",
       "    <tr>\n",
       "      <th>10</th>\n",
       "      <td>10</td>\n",
       "      <td>📷</td>\n",
       "      <td>Camera</td>\n",
       "    </tr>\n",
       "    <tr>\n",
       "      <th>11</th>\n",
       "      <td>11</td>\n",
       "      <td>🇺🇸</td>\n",
       "      <td>United States</td>\n",
       "    </tr>\n",
       "    <tr>\n",
       "      <th>12</th>\n",
       "      <td>12</td>\n",
       "      <td>☀️</td>\n",
       "      <td>Sun</td>\n",
       "    </tr>\n",
       "    <tr>\n",
       "      <th>13</th>\n",
       "      <td>13</td>\n",
       "      <td>💜</td>\n",
       "      <td>Purple heart</td>\n",
       "    </tr>\n",
       "    <tr>\n",
       "      <th>14</th>\n",
       "      <td>14</td>\n",
       "      <td>😉</td>\n",
       "      <td>Winking face</td>\n",
       "    </tr>\n",
       "    <tr>\n",
       "      <th>15</th>\n",
       "      <td>15</td>\n",
       "      <td>💯</td>\n",
       "      <td>Hundred points</td>\n",
       "    </tr>\n",
       "    <tr>\n",
       "      <th>16</th>\n",
       "      <td>16</td>\n",
       "      <td>😁</td>\n",
       "      <td>Beaming face with smiling eyes</td>\n",
       "    </tr>\n",
       "    <tr>\n",
       "      <th>17</th>\n",
       "      <td>17</td>\n",
       "      <td>🎄</td>\n",
       "      <td>Christmas tree</td>\n",
       "    </tr>\n",
       "    <tr>\n",
       "      <th>18</th>\n",
       "      <td>18</td>\n",
       "      <td>📸</td>\n",
       "      <td>Camera with flash</td>\n",
       "    </tr>\n",
       "    <tr>\n",
       "      <th>19</th>\n",
       "      <td>19</td>\n",
       "      <td>😜</td>\n",
       "      <td>Winking face with tongue</td>\n",
       "    </tr>\n",
       "  </tbody>\n",
       "</table>\n",
       "</div>"
      ],
      "text/plain": [
       "   labels emoji                     Description\n",
       "0       0    ❤️                       Red heart\n",
       "1       1     😍     Smiling face with hearteyes\n",
       "2       2     😂          Face with tears of joy\n",
       "3       3     💕                      Two hearts\n",
       "4       4     🔥                            Fire\n",
       "5       5     😊  Smiling face with smiling eyes\n",
       "6       6     😎    Smiling face with sunglasses\n",
       "7       7     ✨                        Sparkles\n",
       "8       8     💙                      Blue heart\n",
       "9       9     😘             Face blowing a kiss\n",
       "10     10     📷                          Camera\n",
       "11     11    🇺🇸                   United States\n",
       "12     12    ☀️                             Sun\n",
       "13     13     💜                    Purple heart\n",
       "14     14     😉                    Winking face\n",
       "15     15     💯                  Hundred points\n",
       "16     16     😁  Beaming face with smiling eyes\n",
       "17     17     🎄                  Christmas tree\n",
       "18     18     📸               Camera with flash\n",
       "19     19     😜        Winking face with tongue"
      ]
     },
     "execution_count": 18,
     "metadata": {},
     "output_type": "execute_result"
    }
   ],
   "source": [
    "df_em"
   ]
  },
  {
   "cell_type": "code",
   "execution_count": 19,
   "metadata": {},
   "outputs": [
    {
     "name": "stdout",
     "output_type": "stream",
     "text": [
      "<class 'pandas.core.frame.DataFrame'>\n",
      "RangeIndex: 20 entries, 0 to 19\n",
      "Data columns (total 3 columns):\n",
      " #   Column       Non-Null Count  Dtype \n",
      "---  ------       --------------  ----- \n",
      " 0   labels       20 non-null     object\n",
      " 1   emoji        20 non-null     object\n",
      " 2   Description  20 non-null     object\n",
      "dtypes: object(3)\n",
      "memory usage: 612.0+ bytes\n"
     ]
    }
   ],
   "source": [
    "df_em.info()"
   ]
  },
  {
   "cell_type": "code",
   "execution_count": 20,
   "metadata": {},
   "outputs": [
    {
     "name": "stderr",
     "output_type": "stream",
     "text": [
      "C:\\Users\\HP\\AppData\\Local\\Temp\\ipykernel_14316\\395785976.py:3: FutureWarning: \n",
      "\n",
      "Passing `palette` without assigning `hue` is deprecated and will be removed in v0.14.0. Assign the `x` variable to `hue` and set `legend=False` for the same effect.\n",
      "\n",
      "  sns.countplot(x=df['labels'], palette=\"plasma\")\n"
     ]
    },
    {
     "data": {
      "text/plain": [
       "<Axes: xlabel='labels', ylabel='count'>"
      ]
     },
     "execution_count": 20,
     "metadata": {},
     "output_type": "execute_result"
    },
    {
     "data": {
      "image/png": "[encoded data removed]",
      "text/plain": [
       "<Figure size 800x500 with 1 Axes>"
      ]
     },
     "metadata": {},
     "output_type": "display_data"
    }
   ],
   "source": [
    "plt.figure(figsize=(8,5))\n",
    "\n",
    "sns.countplot(x=df['labels'], palette=\"plasma\")"
   ]
  },
  {
   "cell_type": "code",
   "execution_count": 23,
   "metadata": {},
   "outputs": [],
   "source": [
    "df.to_csv('unclean_twitterdata.csv')"
   ]
  },
  {
   "cell_type": "markdown",
   "metadata": {},
   "source": [
    "To clean the tweets within the unclean dataset"
   ]
  },
  {
   "cell_type": "code",
   "execution_count": 30,
   "metadata": {},
   "outputs": [
    {
     "data": {
      "text/html": [
       "<div>\n",
       "<style scoped>\n",
       "    .dataframe tbody tr th:only-of-type {\n",
       "        vertical-align: middle;\n",
       "    }\n",
       "\n",
       "    .dataframe tbody tr th {\n",
       "        vertical-align: top;\n",
       "    }\n",
       "\n",
       "    .dataframe thead th {\n",
       "        text-align: right;\n",
       "    }\n",
       "</style>\n",
       "<table border=\"1\" class=\"dataframe\">\n",
       "  <thead>\n",
       "    <tr style=\"text-align: right;\">\n",
       "      <th></th>\n",
       "      <th>Unnamed: 0</th>\n",
       "      <th>tweet</th>\n",
       "      <th>labels</th>\n",
       "    </tr>\n",
       "  </thead>\n",
       "  <tbody>\n",
       "    <tr>\n",
       "      <th>0</th>\n",
       "      <td>0</td>\n",
       "      <td>A little throwback with my favourite person @ ...</td>\n",
       "      <td>0</td>\n",
       "    </tr>\n",
       "    <tr>\n",
       "      <th>1</th>\n",
       "      <td>1</td>\n",
       "      <td>glam on @user yesterday for #kcon makeup using...</td>\n",
       "      <td>7</td>\n",
       "    </tr>\n",
       "    <tr>\n",
       "      <th>2</th>\n",
       "      <td>2</td>\n",
       "      <td>Democracy Plaza in the wake of a stunning outc...</td>\n",
       "      <td>11</td>\n",
       "    </tr>\n",
       "    <tr>\n",
       "      <th>3</th>\n",
       "      <td>3</td>\n",
       "      <td>Then &amp;amp; Now. VILO @ Walt Disney Magic Kingdom</td>\n",
       "      <td>0</td>\n",
       "    </tr>\n",
       "    <tr>\n",
       "      <th>4</th>\n",
       "      <td>4</td>\n",
       "      <td>Who never... @ A Galaxy Far Far Away</td>\n",
       "      <td>2</td>\n",
       "    </tr>\n",
       "    <tr>\n",
       "      <th>...</th>\n",
       "      <td>...</td>\n",
       "      <td>...</td>\n",
       "      <td>...</td>\n",
       "    </tr>\n",
       "    <tr>\n",
       "      <th>49995</th>\n",
       "      <td>49995</td>\n",
       "      <td>My #O2otd Love this chain so much and our new ...</td>\n",
       "      <td>1</td>\n",
       "    </tr>\n",
       "    <tr>\n",
       "      <th>49996</th>\n",
       "      <td>49996</td>\n",
       "      <td>Met Santa and Olaf @ the North Pole today @ No...</td>\n",
       "      <td>0</td>\n",
       "    </tr>\n",
       "    <tr>\n",
       "      <th>49997</th>\n",
       "      <td>49997</td>\n",
       "      <td>New York by Night Strideby #HERElocationNYC......</td>\n",
       "      <td>11</td>\n",
       "    </tr>\n",
       "    <tr>\n",
       "      <th>49998</th>\n",
       "      <td>49998</td>\n",
       "      <td>Kisses for the birthday girl! @ Helzberg Diamonds</td>\n",
       "      <td>0</td>\n",
       "    </tr>\n",
       "    <tr>\n",
       "      <th>49999</th>\n",
       "      <td>49999</td>\n",
       "      <td>Dinner with this priceless view!Thank you, S #...</td>\n",
       "      <td>9</td>\n",
       "    </tr>\n",
       "  </tbody>\n",
       "</table>\n",
       "<p>50000 rows × 3 columns</p>\n",
       "</div>"
      ],
      "text/plain": [
       "       Unnamed: 0                                              tweet  labels\n",
       "0               0  A little throwback with my favourite person @ ...       0\n",
       "1               1  glam on @user yesterday for #kcon makeup using...       7\n",
       "2               2  Democracy Plaza in the wake of a stunning outc...      11\n",
       "3               3   Then &amp; Now. VILO @ Walt Disney Magic Kingdom       0\n",
       "4               4               Who never... @ A Galaxy Far Far Away       2\n",
       "...           ...                                                ...     ...\n",
       "49995       49995  My #O2otd Love this chain so much and our new ...       1\n",
       "49996       49996  Met Santa and Olaf @ the North Pole today @ No...       0\n",
       "49997       49997  New York by Night Strideby #HERElocationNYC......      11\n",
       "49998       49998  Kisses for the birthday girl! @ Helzberg Diamonds       0\n",
       "49999       49999  Dinner with this priceless view!Thank you, S #...       9\n",
       "\n",
       "[50000 rows x 3 columns]"
      ]
     },
     "execution_count": 30,
     "metadata": {},
     "output_type": "execute_result"
    }
   ],
   "source": [
    "df=pd.read_csv('unclean_twitterdata.csv')\n",
    "\n",
    "df.drop(columns=['Unnamed: 0'],axis=1)\n",
    "df"
   ]
  },
  {
   "cell_type": "code",
   "execution_count": 32,
   "metadata": {},
   "outputs": [
    {
     "data": {
      "text/plain": [
       "0        A little throwback with my favourite person @ ...\n",
       "1        glam on @user yesterday for #kcon makeup using...\n",
       "2        Democracy Plaza in the wake of a stunning outc...\n",
       "3         Then &amp; Now. VILO @ Walt Disney Magic Kingdom\n",
       "4                     Who never... @ A Galaxy Far Far Away\n",
       "                               ...                        \n",
       "49995    My #O2otd Love this chain so much and our new ...\n",
       "49996    Met Santa and Olaf @ the North Pole today @ No...\n",
       "49997    New York by Night Strideby #HERElocationNYC......\n",
       "49998    Kisses for the birthday girl! @ Helzberg Diamonds\n",
       "49999    Dinner with this priceless view!Thank you, S #...\n",
       "Name: tweet, Length: 50000, dtype: object"
      ]
     },
     "execution_count": 32,
     "metadata": {},
     "output_type": "execute_result"
    }
   ],
   "source": [
    "df['tweet']"
   ]
  },
  {
   "cell_type": "code",
   "execution_count": 34,
   "metadata": {},
   "outputs": [],
   "source": [
    "import string\n",
    "import re\n",
    "\n",
    "def clean_tweet(tweet):\n",
    "    tweet = str(tweet).lower()\n",
    "    rm_mention = re.sub(r'@[A-Za-z0-9]+', '', tweet)                    \n",
    "    rm_rt = re.sub(r'RT[/s]+', '', rm_mention)                   \n",
    "    rm_links = re.sub(r'http\\S+', '', rm_rt)                             \n",
    "    rm_links = re.sub(r'https?:\\/\\/\\S+','', rm_links)\n",
    "    rm_nums = re.sub('[0-9]+', '', rm_links)                          \n",
    "    rm_punc = [char for char in rm_nums if char not in string.punctuation] \n",
    "    rm_punc = ''.join(rm_punc)\n",
    "    cleaned = rm_punc\n",
    "    \n",
    "    return cleaned\n"
   ]
  },
  {
   "cell_type": "code",
   "execution_count": 40,
   "metadata": {},
   "outputs": [
    {
     "data": {
      "text/plain": [
       "'democracy plaza in the wake of a stunning outcome decision  nbc news'"
      ]
     },
     "execution_count": 40,
     "metadata": {},
     "output_type": "execute_result"
    }
   ],
   "source": [
    "tweet=df['tweet'][2]\n",
    "tweet\n",
    "\n",
    "cleaned=clean_tweet(tweet)\n",
    "cleaned"
   ]
  },
  {
   "cell_type": "code",
   "execution_count": 44,
   "metadata": {},
   "outputs": [
    {
     "data": {
      "text/plain": [
       "'democracy plaza in the wake of a stunning outcome decision  nbc news'"
      ]
     },
     "execution_count": 44,
     "metadata": {},
     "output_type": "execute_result"
    }
   ],
   "source": [
    "df['tweet']=df['tweet'].apply(clean_tweet)\n",
    "df['tweet'][2]"
   ]
  },
  {
   "cell_type": "code",
   "execution_count": 45,
   "metadata": {},
   "outputs": [],
   "source": [
    "df.to_csv('emoji_cleaned.csv')"
   ]
  },
  {
   "cell_type": "code",
   "execution_count": 46,
   "metadata": {},
   "outputs": [
    {
     "data": {
      "text/html": [
       "<div>\n",
       "<style scoped>\n",
       "    .dataframe tbody tr th:only-of-type {\n",
       "        vertical-align: middle;\n",
       "    }\n",
       "\n",
       "    .dataframe tbody tr th {\n",
       "        vertical-align: top;\n",
       "    }\n",
       "\n",
       "    .dataframe thead th {\n",
       "        text-align: right;\n",
       "    }\n",
       "</style>\n",
       "<table border=\"1\" class=\"dataframe\">\n",
       "  <thead>\n",
       "    <tr style=\"text-align: right;\">\n",
       "      <th></th>\n",
       "      <th>Unnamed: 0</th>\n",
       "      <th>tweet</th>\n",
       "      <th>labels</th>\n",
       "    </tr>\n",
       "  </thead>\n",
       "  <tbody>\n",
       "    <tr>\n",
       "      <th>0</th>\n",
       "      <td>0</td>\n",
       "      <td>a little throwback with my favourite person  w...</td>\n",
       "      <td>0</td>\n",
       "    </tr>\n",
       "    <tr>\n",
       "      <th>1</th>\n",
       "      <td>1</td>\n",
       "      <td>glam on  yesterday for kcon makeup using  in f...</td>\n",
       "      <td>7</td>\n",
       "    </tr>\n",
       "    <tr>\n",
       "      <th>2</th>\n",
       "      <td>2</td>\n",
       "      <td>democracy plaza in the wake of a stunning outc...</td>\n",
       "      <td>11</td>\n",
       "    </tr>\n",
       "    <tr>\n",
       "      <th>3</th>\n",
       "      <td>3</td>\n",
       "      <td>then amp now vilo  walt disney magic kingdom</td>\n",
       "      <td>0</td>\n",
       "    </tr>\n",
       "    <tr>\n",
       "      <th>4</th>\n",
       "      <td>4</td>\n",
       "      <td>who never  a galaxy far far away</td>\n",
       "      <td>2</td>\n",
       "    </tr>\n",
       "    <tr>\n",
       "      <th>...</th>\n",
       "      <td>...</td>\n",
       "      <td>...</td>\n",
       "      <td>...</td>\n",
       "    </tr>\n",
       "    <tr>\n",
       "      <th>49995</th>\n",
       "      <td>49995</td>\n",
       "      <td>my ootd love this chain so much and our new ri...</td>\n",
       "      <td>1</td>\n",
       "    </tr>\n",
       "    <tr>\n",
       "      <th>49996</th>\n",
       "      <td>49996</td>\n",
       "      <td>met santa and olaf  the north pole today  nort...</td>\n",
       "      <td>0</td>\n",
       "    </tr>\n",
       "    <tr>\n",
       "      <th>49997</th>\n",
       "      <td>49997</td>\n",
       "      <td>new york by night strideby herelocationnyc see...</td>\n",
       "      <td>11</td>\n",
       "    </tr>\n",
       "    <tr>\n",
       "      <th>49998</th>\n",
       "      <td>49998</td>\n",
       "      <td>kisses for the birthday girl  helzberg diamonds</td>\n",
       "      <td>0</td>\n",
       "    </tr>\n",
       "    <tr>\n",
       "      <th>49999</th>\n",
       "      <td>49999</td>\n",
       "      <td>dinner with this priceless viewthank you s ann...</td>\n",
       "      <td>9</td>\n",
       "    </tr>\n",
       "  </tbody>\n",
       "</table>\n",
       "<p>50000 rows × 3 columns</p>\n",
       "</div>"
      ],
      "text/plain": [
       "       Unnamed: 0                                              tweet  labels\n",
       "0               0  a little throwback with my favourite person  w...       0\n",
       "1               1  glam on  yesterday for kcon makeup using  in f...       7\n",
       "2               2  democracy plaza in the wake of a stunning outc...      11\n",
       "3               3       then amp now vilo  walt disney magic kingdom       0\n",
       "4               4                   who never  a galaxy far far away       2\n",
       "...           ...                                                ...     ...\n",
       "49995       49995  my ootd love this chain so much and our new ri...       1\n",
       "49996       49996  met santa and olaf  the north pole today  nort...       0\n",
       "49997       49997  new york by night strideby herelocationnyc see...      11\n",
       "49998       49998    kisses for the birthday girl  helzberg diamonds       0\n",
       "49999       49999  dinner with this priceless viewthank you s ann...       9\n",
       "\n",
       "[50000 rows x 3 columns]"
      ]
     },
     "execution_count": 46,
     "metadata": {},
     "output_type": "execute_result"
    }
   ],
   "source": [
    "df"
   ]
  },
  {
   "cell_type": "markdown",
   "metadata": {},
   "source": [
    "Preprocessing the current dataset"
   ]
  },
  {
   "cell_type": "code",
   "execution_count": 53,
   "metadata": {},
   "outputs": [],
   "source": [
    "import nltk\n",
    "import spacy\n",
    "from nltk.stem import WordNetLemmatizer\n",
    "\n",
    "nlp=spacy.load('en_core_web_sm')\n",
    "lemmatizer=WordNetLemmatizer()\n",
    "\n",
    "def tweet_preprocessing(tweet,nlp=nlp,lemmatizer=lemmatizer):\n",
    "    stop_words=nlp.Defaults.stop_words\n",
    "    rm_stop_words_lemma=[]\n",
    "    doc=nlp(tweet)\n",
    "\n",
    "    for token in doc:\n",
    "        if token.text not in stop_words and token.pos_!='PUNCT':\n",
    "            lemma_word=lemmatizer.lemmatize(token.text)\n",
    "            rm_stop_words_lemma.append(lemma_word)\n",
    "    processed=' '.join(rm_stop_words_lemma)\n",
    "\n",
    "    return processed"
   ]
  },
  {
   "cell_type": "code",
   "execution_count": 55,
   "metadata": {},
   "outputs": [
    {
     "data": {
      "text/plain": [
       "'making stride   jones beach boardwalk'"
      ]
     },
     "execution_count": 55,
     "metadata": {},
     "output_type": "execute_result"
    }
   ],
   "source": [
    "tweet=df['tweet'][52]\n",
    "cleaned=clean_tweet(tweet)\n",
    "\n",
    "tweet_preprocessing(cleaned)"
   ]
  },
  {
   "cell_type": "code",
   "execution_count": 57,
   "metadata": {},
   "outputs": [],
   "source": [
    "df['tweet']=df['tweet'].apply(tweet_preprocessing)"
   ]
  },
  {
   "cell_type": "code",
   "execution_count": null,
   "metadata": {},
   "outputs": [],
   "source": [
    "df.to_csv('stp_lm.csv')"
   ]
  },
  {
   "cell_type": "code",
   "execution_count": 59,
   "metadata": {},
   "outputs": [
    {
     "data": {
      "text/html": [
       "<div>\n",
       "<style scoped>\n",
       "    .dataframe tbody tr th:only-of-type {\n",
       "        vertical-align: middle;\n",
       "    }\n",
       "\n",
       "    .dataframe tbody tr th {\n",
       "        vertical-align: top;\n",
       "    }\n",
       "\n",
       "    .dataframe thead th {\n",
       "        text-align: right;\n",
       "    }\n",
       "</style>\n",
       "<table border=\"1\" class=\"dataframe\">\n",
       "  <thead>\n",
       "    <tr style=\"text-align: right;\">\n",
       "      <th></th>\n",
       "      <th>Tweet</th>\n",
       "      <th>Label</th>\n",
       "    </tr>\n",
       "  </thead>\n",
       "  <tbody>\n",
       "    <tr>\n",
       "      <th>0</th>\n",
       "      <td>little throwback favourite person   water wall</td>\n",
       "      <td>0</td>\n",
       "    </tr>\n",
       "    <tr>\n",
       "      <th>1</th>\n",
       "      <td>glam   yesterday kcon makeup   featherette</td>\n",
       "      <td>7</td>\n",
       "    </tr>\n",
       "    <tr>\n",
       "      <th>2</th>\n",
       "      <td>democracy plaza wake stunning outcome decision...</td>\n",
       "      <td>11</td>\n",
       "    </tr>\n",
       "    <tr>\n",
       "      <th>3</th>\n",
       "      <td>amp vilo   walt disney magic kingdom</td>\n",
       "      <td>0</td>\n",
       "    </tr>\n",
       "    <tr>\n",
       "      <th>4</th>\n",
       "      <td>galaxy far far away</td>\n",
       "      <td>2</td>\n",
       "    </tr>\n",
       "    <tr>\n",
       "      <th>...</th>\n",
       "      <td>...</td>\n",
       "      <td>...</td>\n",
       "    </tr>\n",
       "    <tr>\n",
       "      <th>49995</th>\n",
       "      <td>ootd love chain new ring putaringonit odesigne...</td>\n",
       "      <td>1</td>\n",
       "    </tr>\n",
       "    <tr>\n",
       "      <th>49996</th>\n",
       "      <td>met santa olaf   north pole today   north pole...</td>\n",
       "      <td>0</td>\n",
       "    </tr>\n",
       "    <tr>\n",
       "      <th>49997</th>\n",
       "      <td>new york night strideby herelocationnyc seemyc...</td>\n",
       "      <td>11</td>\n",
       "    </tr>\n",
       "    <tr>\n",
       "      <th>49998</th>\n",
       "      <td>kiss birthday girl   helzberg diamond</td>\n",
       "      <td>0</td>\n",
       "    </tr>\n",
       "    <tr>\n",
       "      <th>49999</th>\n",
       "      <td>dinner priceless viewthank s anniversarydinner...</td>\n",
       "      <td>9</td>\n",
       "    </tr>\n",
       "  </tbody>\n",
       "</table>\n",
       "<p>50000 rows × 2 columns</p>\n",
       "</div>"
      ],
      "text/plain": [
       "                                                   Tweet  Label\n",
       "0         little throwback favourite person   water wall      0\n",
       "1             glam   yesterday kcon makeup   featherette      7\n",
       "2      democracy plaza wake stunning outcome decision...     11\n",
       "3                   amp vilo   walt disney magic kingdom      0\n",
       "4                                    galaxy far far away      2\n",
       "...                                                  ...    ...\n",
       "49995  ootd love chain new ring putaringonit odesigne...      1\n",
       "49996  met santa olaf   north pole today   north pole...      0\n",
       "49997  new york night strideby herelocationnyc seemyc...     11\n",
       "49998              kiss birthday girl   helzberg diamond      0\n",
       "49999  dinner priceless viewthank s anniversarydinner...      9\n",
       "\n",
       "[50000 rows x 2 columns]"
      ]
     },
     "execution_count": 59,
     "metadata": {},
     "output_type": "execute_result"
    }
   ],
   "source": [
    "stemmed_Data=pd.read_csv('stp_lm.csv')\n",
    "stemmed_Data"
   ]
  },
  {
   "cell_type": "code",
   "execution_count": null,
   "metadata": {},
   "outputs": [],
   "source": []
  },
  {
   "cell_type": "markdown",
   "metadata": {},
   "source": [
    "# Emoji Prediction using Deep Learning"
   ]
  },
  {
   "cell_type": "markdown",
   "metadata": {},
   "source": [
    "####     "
   ]
  },
  {
   "cell_type": "code",
   "execution_count": null,
   "metadata": {},
   "outputs": [],
   "source": [
    "import numpy as np\n",
    "import pandas as pd\n",
    "import matplotlib.pyplot as plt\n",
    "import seaborn as sns\n",
    "\n",
    "import tensorflow as tf\n",
    "import tensorflow.keras"
   ]
  },
  {
   "cell_type": "code",
   "execution_count": null,
   "metadata": {},
   "outputs": [],
   "source": [
    "df = pd.read_csv(\"data/stp_lm.csv\")\n",
    "df.dropna(inplace=True)"
   ]
  },
  {
   "cell_type": "code",
   "execution_count": null,
   "metadata": {},
   "outputs": [
    {
     "data": {
      "text/html": [
       "<div>\n",
       "<style scoped>\n",
       "    .dataframe tbody tr th:only-of-type {\n",
       "        vertical-align: middle;\n",
       "    }\n",
       "\n",
       "    .dataframe tbody tr th {\n",
       "        vertical-align: top;\n",
       "    }\n",
       "\n",
       "    .dataframe thead th {\n",
       "        text-align: right;\n",
       "    }\n",
       "</style>\n",
       "<table border=\"1\" class=\"dataframe\">\n",
       "  <thead>\n",
       "    <tr style=\"text-align: right;\">\n",
       "      <th></th>\n",
       "      <th>Tweet</th>\n",
       "      <th>Label</th>\n",
       "    </tr>\n",
       "  </thead>\n",
       "  <tbody>\n",
       "    <tr>\n",
       "      <th>0</th>\n",
       "      <td>little throwback favourite person   water wall</td>\n",
       "      <td>0</td>\n",
       "    </tr>\n",
       "    <tr>\n",
       "      <th>1</th>\n",
       "      <td>glam   yesterday kcon makeup   featherette</td>\n",
       "      <td>7</td>\n",
       "    </tr>\n",
       "    <tr>\n",
       "      <th>2</th>\n",
       "      <td>democracy plaza wake stunning outcome decision...</td>\n",
       "      <td>11</td>\n",
       "    </tr>\n",
       "    <tr>\n",
       "      <th>3</th>\n",
       "      <td>amp vilo   walt disney magic kingdom</td>\n",
       "      <td>0</td>\n",
       "    </tr>\n",
       "    <tr>\n",
       "      <th>4</th>\n",
       "      <td>galaxy far far away</td>\n",
       "      <td>2</td>\n",
       "    </tr>\n",
       "    <tr>\n",
       "      <th>5</th>\n",
       "      <td>dinner fla tonight   panseared salmon couscous...</td>\n",
       "      <td>1</td>\n",
       "    </tr>\n",
       "    <tr>\n",
       "      <th>6</th>\n",
       "      <td>fav senior game congrats beating west   west s...</td>\n",
       "      <td>8</td>\n",
       "    </tr>\n",
       "    <tr>\n",
       "      <th>7</th>\n",
       "      <td>got formal best friend   phi mu jsu</td>\n",
       "      <td>0</td>\n",
       "    </tr>\n",
       "    <tr>\n",
       "      <th>8</th>\n",
       "      <td>cause miss little homies throwback cousinlove ...</td>\n",
       "      <td>13</td>\n",
       "    </tr>\n",
       "    <tr>\n",
       "      <th>9</th>\n",
       "      <td>birthday kiss   madison wisconsin</td>\n",
       "      <td>9</td>\n",
       "    </tr>\n",
       "  </tbody>\n",
       "</table>\n",
       "</div>"
      ],
      "text/plain": [
       "                                               Tweet  Label\n",
       "0     little throwback favourite person   water wall      0\n",
       "1         glam   yesterday kcon makeup   featherette      7\n",
       "2  democracy plaza wake stunning outcome decision...     11\n",
       "3               amp vilo   walt disney magic kingdom      0\n",
       "4                                galaxy far far away      2\n",
       "5  dinner fla tonight   panseared salmon couscous...      1\n",
       "6  fav senior game congrats beating west   west s...      8\n",
       "7                got formal best friend   phi mu jsu      0\n",
       "8  cause miss little homies throwback cousinlove ...     13\n",
       "9                  birthday kiss   madison wisconsin      9"
      ]
     },
     "metadata": {},
     "output_type": "display_data"
    }
   ],
   "source": [
    "df.head(10)"
   ]
  },
  {
   "cell_type": "markdown",
   "metadata": {},
   "source": [
    "### Over-sampling data"
   ]
  },
  {
   "cell_type": "code",
   "execution_count": null,
   "metadata": {},
   "outputs": [],
   "source": [
    "X = df[\"Tweet\"].values\n",
    "y = df[\"Label\"].values"
   ]
  },
  {
   "cell_type": "code",
   "execution_count": null,
   "metadata": {},
   "outputs": [],
   "source": [
    "from imblearn.over_sampling import RandomOverSampler\n",
    "\n",
    "os = RandomOverSampler()\n",
    "X = X.reshape(-1,1)\n",
    "X, y = os.fit_sample(X, y)"
   ]
  },
  {
   "cell_type": "code",
   "execution_count": null,
   "metadata": {},
   "outputs": [
    {
     "data": {
      "text/plain": [
       "(49985,)"
      ]
     },
     "metadata": {},
     "output_type": "display_data"
    }
   ],
   "source": [
    "X = X.reshape(-1,)\n",
    "X.shape"
   ]
  },
  {
   "cell_type": "markdown",
   "metadata": {},
   "source": [
    "#   "
   ]
  },
  {
   "cell_type": "markdown",
   "metadata": {},
   "source": [
    "### Tokenization"
   ]
  },
  {
   "cell_type": "code",
   "execution_count": null,
   "metadata": {},
   "outputs": [],
   "source": [
    "from keras.preprocessing.text import Tokenizer\n",
    "\n",
    "tokenizer = Tokenizer(num_words=80000)\n",
    "tokenizer.fit_on_texts(X)"
   ]
  },
  {
   "cell_type": "code",
   "execution_count": null,
   "metadata": {},
   "outputs": [
    {
     "name": "stdout",
     "output_type": "stream",
     "text": [
      "Text \n",
      " ['little throwback favourite person   water wall'\n",
      " 'glam   yesterday kcon makeup   featherette'\n",
      " 'democracy plaza wake stunning outcome decision   nbc news'\n",
      " 'amp vilo   walt disney magic kingdom' '  galaxy far far away'\n",
      " 'dinner fla tonight   panseared salmon couscous veggie salad yum dinner florida salmon'\n",
      " 'fav senior game congrats beating west   west salem'\n",
      " 'got formal best friend   phi mu jsu'\n",
      " 'cause miss little homies throwback cousinlove   indiana university'\n",
      " 'birthday kiss   madison wisconsin'] \n",
      "\n",
      "Sequences\n"
     ]
    },
    {
     "data": {
      "text/plain": [
       "[[25, 310, 1605, 288, 474, 622],\n",
       " [2748, 194, 15729, 526, 15730],\n",
       " [5764, 623, 898, 974, 7993, 2906, 4598, 1205],\n",
       " [6, 15731, 372, 57, 149, 228],\n",
       " [2225, 639, 639, 409],\n",
       " [106, 4599, 40, 15732, 2140, 15733, 3118, 1301, 1206, 106, 51, 2140],\n",
       " [373, 321, 94, 374, 6679, 127, 127, 2335],\n",
       " [16, 870, 13, 17, 788, 2907, 7994],\n",
       " [380, 65, 25, 1562, 310, 4167, 402, 21],\n",
       " [22, 624, 496, 687]]"
      ]
     },
     "metadata": {},
     "output_type": "display_data"
    }
   ],
   "source": [
    "print(\"Text \\n\",X[:10],'\\n')\n",
    "\n",
    "X_seqs = tokenizer.texts_to_sequences(X)\n",
    "print(\"Sequences\")\n",
    "X_seqs[:10]"
   ]
  },
  {
   "cell_type": "code",
   "execution_count": null,
   "metadata": {},
   "outputs": [
    {
     "name": "stdout",
     "output_type": "stream",
     "text": [
      "Word Mappings\n",
      "\n",
      "Index:  1 ----> love\n",
      "Index:  2 ----> new\n",
      "Index:  3 ----> day\n",
      "Index:  4 ----> nt\n",
      "Index:  5 ----> happy\n",
      "Index:  6 ----> amp\n",
      "Index:  7 ----> m\n",
      "Index:  8 ----> time\n",
      "Index:  9 ----> night\n"
     ]
    }
   ],
   "source": [
    "idx2words = tokenizer.index_word\n",
    "\n",
    "print(\"Word Mappings\\n\")\n",
    "for i in range(1,10):\n",
    "    print(\"Index: \",i, \"---->\",idx2words[i])"
   ]
  },
  {
   "cell_type": "code",
   "execution_count": null,
   "metadata": {},
   "outputs": [
    {
     "name": "stdout",
     "output_type": "stream",
     "text": [
      "Vocabulary size : 54697\n"
     ]
    }
   ],
   "source": [
    "vocab_size = len(tokenizer.index_word)\n",
    "print(\"Vocabulary size :\",len(tokenizer.index_word))"
   ]
  },
  {
   "cell_type": "code",
   "execution_count": null,
   "metadata": {},
   "outputs": [],
   "source": [
    "from keras.preprocessing.sequence import pad_sequences\n",
    "\n",
    "max_len=40\n",
    "X_seqs_pd = pad_sequences(X_seqs, truncating=\"pre\", padding=\"pre\", maxlen=max_len)"
   ]
  },
  {
   "cell_type": "code",
   "execution_count": null,
   "metadata": {},
   "outputs": [
    {
     "name": "stdout",
     "output_type": "stream",
     "text": [
      "Before Padding\n",
      "[[25, 310, 1605, 288, 474, 622]]\n",
      "\n",
      "After Padding\n",
      "[[   0    0    0    0    0    0    0    0    0    0    0    0    0    0\n",
      "     0    0    0    0    0    0    0    0    0    0    0    0    0    0\n",
      "     0    0    0    0    0    0   25  310 1605  288  474  622]]\n"
     ]
    }
   ],
   "source": [
    "print(\"Before Padding\")\n",
    "print(X_seqs[:1])\n",
    "\n",
    "print(\"\\nAfter Padding\")\n",
    "print(X_seqs_pd[:1])"
   ]
  },
  {
   "cell_type": "markdown",
   "metadata": {},
   "source": [
    "### Train Test Split"
   ]
  },
  {
   "cell_type": "code",
   "execution_count": null,
   "metadata": {},
   "outputs": [
    {
     "name": "stdout",
     "output_type": "stream",
     "text": [
      "Training X Dim  (150626, 40)\n",
      "Training y Dim  (150626, 20)\n",
      "Test X Dim  (64554, 40)\n",
      "Test y Dim  (64554, 20)\n"
     ]
    }
   ],
   "source": [
    "from sklearn.model_selection import train_test_split\n",
    "\n",
    "X_train, X_test ,y_train, y_test = train_test_split(X_seqs_pd, y, test_size=0.3, random_state=105)\n",
    "print(\"Training X Dim \",X_train.shape)\n",
    "print(\"Training y Dim \",y_train.shape)\n",
    "\n",
    "print(\"Test X Dim \",X_test.shape)\n",
    "print(\"Test y Dim \",y_test.shape)"
   ]
  },
  {
   "cell_type": "markdown",
   "metadata": {},
   "source": [
    "## Deep Learning  Model using Bidirectional-LSTMs"
   ]
  },
  {
   "cell_type": "code",
   "execution_count": null,
   "metadata": {},
   "outputs": [
    {
     "name": "stdout",
     "output_type": "stream",
     "text": [
      "Model: \"sequential\"\n",
      "_________________________________________________________________\n",
      "Layer (type)                 Output Shape              Param #   \n",
      "=================================================================\n",
      "embedding (Embedding)        (None, 40, 128)           8022016   \n",
      "_________________________________________________________________\n",
      "bidirectional (Bidirectional (None, 40, 160)           133760    \n",
      "_________________________________________________________________\n",
      "bidirectional_1 (Bidirection (None, 40, 160)           154240    \n",
      "_________________________________________________________________\n",
      "global_max_pooling1d (Global (None, 160)               0         \n",
      "_________________________________________________________________\n",
      "dropout (Dropout)            (None, 160)               0         \n",
      "_________________________________________________________________\n",
      "dense (Dense)                (None, 64)                10304     \n",
      "_________________________________________________________________\n",
      "dropout_1 (Dropout)          (None, 64)                0         \n",
      "_________________________________________________________________\n",
      "dense_1 (Dense)              (None, 20)                1300      \n",
      "=================================================================\n",
      "Total params: 8,321,620\n",
      "Trainable params: 8,321,620\n",
      "Non-trainable params: 0\n",
      "_________________________________________________________________\n"
     ]
    }
   ],
   "source": [
    "from keras.models import Sequential\n",
    "from keras.layers import Dropout, Dense, LSTM, Bidirectional,Embedding, GlobalMaxPool1D\n",
    "\n",
    "\n",
    "\n",
    "vocabulary_size = vocab_size\n",
    "seq_len = 40\n",
    "embed_len=128\n",
    "\n",
    "\n",
    "model = Sequential()\n",
    "model.add(Embedding(vocabulary_size+1, embed_len, input_length=seq_len))\n",
    "model.add(Bidirectional(LSTM(80,return_sequences=True)))\n",
    "model.add(Bidirectional(LSTM(80,return_sequences=True)))\n",
    "model.add(GlobalMaxPool1D())\n",
    "model.add(Dropout(0.5))\n",
    "model.add(Dense(64, activation=\"relu\"))\n",
    "model.add(Dropout(0.5))\n",
    "model.add(Dense(20, activation=\"softmax\"))\n",
    "\n",
    "model.summary()"
   ]
  },
  {
   "cell_type": "code",
   "execution_count": null,
   "metadata": {},
   "outputs": [],
   "source": [
    "from tensorflow.keras.callbacks import EarlyStopping\n",
    "\n",
    "early_stop = EarlyStopping(monitor=\"val_loss\", mode=\"min\", patience=0,verbose=1)\n",
    "\n",
    "model.compile(loss = 'categorical_crossentropy',\n",
    "             optimizer = \"adam\",\n",
    "             metrics=[\"accuracy\"])"
   ]
  },
  {
   "cell_type": "code",
   "execution_count": null,
   "metadata": {},
   "outputs": [],
   "source": [
    "from keras.utils import to_categorical\n",
    "\n",
    "y_train_cat = to_categorical(y_train)\n",
    "y_test_cat = to_categorical(y_test)"
   ]
  },
  {
   "cell_type": "code",
   "execution_count": null,
   "metadata": {},
   "outputs": [
    {
     "name": "stdout",
     "output_type": "stream",
     "text": [
      "Epoch 1/15\n",
      "2354/2354 [==============================] - 224s 95ms/step - loss: 2.2879 - accuracy: 0.2940 - val_loss: 1.4041 - val_accuracy: 0.5763\n",
      "Epoch 2/15\n",
      "2354/2354 [==============================] - 223s 95ms/step - loss: 1.0589 - accuracy: 0.6898 - val_loss: 0.8214 - val_accuracy: 0.7561\n",
      "Epoch 3/15\n",
      "2354/2354 [==============================] - 223s 95ms/step - loss: 0.6128 - accuracy: 0.8237 - val_loss: 0.6235 - val_accuracy: 0.8254\n",
      "Epoch 4/15\n",
      "2354/2354 [==============================] - 223s 95ms/step - loss: 0.4133 - accuracy: 0.8837 - val_loss: 0.5428 - val_accuracy: 0.8616\n",
      "Epoch 5/15\n",
      "2354/2354 [==============================] - 222s 94ms/step - loss: 0.3023 - accuracy: 0.9167 - val_loss: 0.4961 - val_accuracy: 0.8795\n",
      "Epoch 6/15\n",
      "2354/2354 [==============================] - 222s 94ms/step - loss: 0.2319 - accuracy: 0.9374 - val_loss: 0.5038 - val_accuracy: 0.8874\n",
      "Epoch 00006: early stopping\n"
     ]
    },
    {
     "ename": "KeyboardInterrupt",
     "evalue": "ignored",
     "output_type": "error",
     "traceback": [
      "ignored"
     ]
    }
   ],
   "source": [
    "batch_size=64\n",
    "epochs = 15\n",
    "\n",
    "model.fit(X_train, y_train, batch_size=batch_size, epochs = epochs, \n",
    "          shuffle=True,validation_data=(X_test, y_test), callbacks=[early_stop])"
   ]
  },
  {
   "cell_type": "code",
   "execution_count": null,
   "metadata": {},
   "outputs": [
    {
     "name": "stdout",
     "output_type": "stream",
     "text": [
      "1009/1009 [==============================] - 7s 7ms/step - loss: 0.5038 - accuracy: 0.8874\n"
     ]
    },
    {
     "data": {
      "text/plain": [
       "[0.5403534173965454, 0.8935310244560242]"
      ]
     },
     "metadata": {},
     "output_type": "display_data"
    }
   ],
   "source": [
    "model.evaluate(X_test, y_test, batch_size=batch_size)"
   ]
  },
  {
   "cell_type": "code",
   "execution_count": null,
   "metadata": {},
   "outputs": [
    {
     "data": {
      "text/html": [
       "<div>\n",
       "<style scoped>\n",
       "    .dataframe tbody tr th:only-of-type {\n",
       "        vertical-align: middle;\n",
       "    }\n",
       "\n",
       "    .dataframe tbody tr th {\n",
       "        vertical-align: top;\n",
       "    }\n",
       "\n",
       "    .dataframe thead th {\n",
       "        text-align: right;\n",
       "    }\n",
       "</style>\n",
       "<table border=\"1\" class=\"dataframe\">\n",
       "  <thead>\n",
       "    <tr style=\"text-align: right;\">\n",
       "      <th></th>\n",
       "      <th>loss</th>\n",
       "      <th>accuracy</th>\n",
       "      <th>val_loss</th>\n",
       "      <th>val_accuracy</th>\n",
       "    </tr>\n",
       "  </thead>\n",
       "  <tbody>\n",
       "    <tr>\n",
       "      <th>0</th>\n",
       "      <td>2.2879</td>\n",
       "      <td>0.2940</td>\n",
       "      <td>1.4041</td>\n",
       "      <td>0.5763</td>\n",
       "    </tr>\n",
       "    <tr>\n",
       "      <th>1</th>\n",
       "      <td>1.0589</td>\n",
       "      <td>0.6898</td>\n",
       "      <td>0.8214</td>\n",
       "      <td>0.7561</td>\n",
       "    </tr>\n",
       "    <tr>\n",
       "      <th>2</th>\n",
       "      <td>0.6128</td>\n",
       "      <td>0.8237</td>\n",
       "      <td>0.6235</td>\n",
       "      <td>0.8254</td>\n",
       "    </tr>\n",
       "    <tr>\n",
       "      <th>3</th>\n",
       "      <td>0.4133</td>\n",
       "      <td>0.8837</td>\n",
       "      <td>0.5428</td>\n",
       "      <td>0.8616</td>\n",
       "    </tr>\n",
       "    <tr>\n",
       "      <th>4</th>\n",
       "      <td>0.3023</td>\n",
       "      <td>0.9167</td>\n",
       "      <td>0.4961</td>\n",
       "      <td>0.8795</td>\n",
       "    </tr>\n",
       "    <tr>\n",
       "      <th>5</th>\n",
       "      <td>0.2319</td>\n",
       "      <td>0.9374</td>\n",
       "      <td>0.5038</td>\n",
       "      <td>0.8874</td>\n",
       "    </tr>\n",
       "  </tbody>\n",
       "</table>\n",
       "</div>"
      ],
      "text/plain": [
       "       loss  accuracy  val_loss  val_accuracy\n",
       "0  2.2879  0.2940  1.4041      0.5763\n",
       "1  1.0589  0.6898  0.8214      0.7561\n",
       "2  0.6128  0.8237  0.6235      0.8254\n",
       "3  0.4133  0.8837  0.5428      0.8616\n",
       "4  0.3023  0.9167  0.4961      0.8795\n",
       "5  0.2319  0.9374  0.5038      0.8874\n"
      ]
     },
     "metadata": {},
     "output_type": "display_data"
    }
   ],
   "source": [
    "loss = pd.DataFrame(model.history.history)\n",
    "loss"
   ]
  },
  {
   "cell_type": "code",
   "execution_count": null,
   "metadata": {},
   "outputs": [
    {
     "data": {
      "image/png": "[encoded data removed]",
      "text/plain": [
       "<Figure size 432x288 with 1 Axes>"
      ]
     },
     "metadata": {},
     "output_type": "display_data"
    }
   ],
   "source": [
    "plt.plot(loss[[\"loss\",\"val_loss\"]])\n",
    "plt.show()"
   ]
  },
  {
   "cell_type": "code",
   "execution_count": null,
   "metadata": {},
   "outputs": [
    {
     "data": {
      "text/plain": [
       "[<matplotlib.lines.Line2D at 0x7ffb1188f160>,\n",
       " <matplotlib.lines.Line2D at 0x7ffb1188f278>]"
      ]
     },
     "metadata": {},
     "output_type": "display_data"
    },
    {
     "data": {
      "image/png": "[encoded data removed]",
      "text/plain": [
       "<Figure size 432x288 with 1 Axes>"
      ]
     },
     "metadata": {},
     "output_type": "display_data"
    }
   ],
   "source": [
    "plt.plot(loss[[\"accuracy\",\"val_accuracy\"]])"
   ]
  },
  {
   "cell_type": "markdown",
   "metadata": {},
   "source": [
    "## Model Evaluation"
   ]
  },
  {
   "cell_type": "code",
   "execution_count": null,
   "metadata": {},
   "outputs": [
    {
     "name": "stdout",
     "output_type": "stream",
     "text": [
      "              precision    recall  f1-score   support\n",
      "\n",
      "           0       0.56      0.31      0.40      3211\n",
      "           1       0.69      0.64      0.66      3249\n",
      "           2       0.84      0.73      0.78      3240\n",
      "           3       0.79      0.85      0.82      3175\n",
      "           4       0.93      0.93      0.93      3208\n",
      "           5       0.82      0.88      0.85      3281\n",
      "           6       0.89      0.93      0.91      3255\n",
      "           7       0.87      0.94      0.90      3172\n",
      "           8       0.93      0.93      0.93      3273\n",
      "           9       0.84      0.94      0.89      3226\n",
      "          10       0.96      0.89      0.92      3202\n",
      "          11       0.93      0.98      0.95      3216\n",
      "          12       0.95      0.97      0.96      3277\n",
      "          13       0.95      0.97      0.96      3202\n",
      "          14       0.95      0.97      0.96      3225\n",
      "          15       0.95      0.98      0.97      3177\n",
      "          16       0.94      0.96      0.95      3234\n",
      "          17       0.97      0.98      0.97      3224\n",
      "          18       0.87      0.99      0.92      3235\n",
      "          19       0.96      0.97      0.96      3272\n",
      "\n",
      "    accuracy                           0.89     64554\n",
      "   macro avg       0.88      0.89      0.88     64554\n",
      "weighted avg       0.88      0.89      0.88     64554\n",
      "\n"
     ]
    }
   ],
   "source": [
    "from sklearn.metrics import classification_report, confusion_matrix\n",
    "\n",
    "\n",
    "predictions = model.predict_classes(X_test)\n",
    "print(classification_report(y_test, predictions))"
   ]
  },
  {
   "cell_type": "code",
   "execution_count": null,
   "metadata": {},
   "outputs": [],
   "source": [
    "model.save(\"BLSTM.h5\")"
   ]
  },
  {
   "cell_type": "markdown",
   "metadata": {},
   "source": [
    "#  "
   ]
  },
  {
   "cell_type": "markdown",
   "metadata": {},
   "source": [
    "# Results"
   ]
  },
  {
   "cell_type": "code",
   "execution_count": null,
   "metadata": {},
   "outputs": [
    {
     "data": {
      "image/png": "[encoded data removed]",
      "text/plain": [
       "<Figure size 576x432 with 1 Axes>"
      ]
     },
     "metadata": {},
     "output_type": "display_data"
    }
   ],
   "source": [
    "accuracy=[0.27,0.29,0.85,0.89]\n",
    "labels=['Naive Bayes','Support Vector Classifier','LSTM','Bidirectional LSTM']\n",
    "\n",
    "\n",
    "sns.set(rc={'figure.figsize':(8,6)})\n",
    "ax = sns.barplot(x=labels, y=accuracy)\n",
    "ax.set(xlabel='Model', ylabel='Accuracy')\n",
    "plt.show()"
   ]
  },
  {
   "cell_type": "code",
   "execution_count": null,
   "metadata": {},
   "outputs": [],
   "source": []
  },
  {
   "cell_type": "markdown",
   "metadata": {},
   "source": [
    "## Emoji Prediction on Tweets"
   ]
  },
  {
   "cell_type": "code",
   "execution_count": null,
   "metadata": {},
   "outputs": [],
   "source": [
    "import os\n",
    "import numpy as np\n",
    "import pandas as pd\n",
    "import matplotlib.pyplot as plt\n",
    "import seaborn as sns\n",
    "import pickle\n",
    "import tensorflow.keras"
   ]
  },
  {
   "cell_type": "code",
   "execution_count": null,
   "metadata": {},
   "outputs": [],
   "source": [
    "df = pd.read_csv(\"data/emoji_uncleaned.csv\").sample(n=30)\n",
    "df.dropna(inplace=True)\n",
    "\n",
    "X = df[\"Tweet\"].values\n",
    "y = df[\"Label\"].values"
   ]
  },
  {
   "cell_type": "code",
   "execution_count": null,
   "metadata": {},
   "outputs": [],
   "source": [
    "emoji_raw = open('data/us_mapping.txt','r',encoding=\"utf8\")\n",
    "\n",
    "emojis=[]\n",
    "for sentence in emoji_raw:\n",
    "    sentence = sentence.rstrip()\n",
    "    emojis.append(sentence)\n",
    "\n",
    "    \n",
    "emoji_dict={}\n",
    "\n",
    "for e in emojis:\n",
    "    idx = int(e.split()[0])\n",
    "    emoji = e.split()[1]\n",
    "    emoji_dict[idx] = emoji"
   ]
  },
  {
   "cell_type": "code",
   "execution_count": null,
   "metadata": {},
   "outputs": [],
   "source": [
    "from keras.preprocessing.sequence import pad_sequences\n",
    "\n",
    "tokenizer = pickle.load(open(\"Model/tweet_tokenizer\",'rb'))\n",
    "\n",
    "def preprocess_text(X):\n",
    "    max_len=40\n",
    "    X_seqs = tokenizer.texts_to_sequences(X)\n",
    "    X_seqs_pd = pad_sequences(X_seqs, truncating=\"pre\", padding=\"pre\", maxlen=max_len)\n",
    "    return X_seqs_pd"
   ]
  },
  {
   "cell_type": "code",
   "execution_count": null,
   "metadata": {},
   "outputs": [
    {
     "name": "stdout",
     "output_type": "stream",
     "text": [
      "Model: \"sequential\"\n",
      "_________________________________________________________________\n",
      " Layer (type)                Output Shape              Param #   \n",
      "=================================================================\n",
      " embedding (Embedding)       (None, 40, 128)           8022016   \n",
      "                                                                 \n",
      " bidirectional (Bidirection  (None, 40, 160)           133760    \n",
      " al)                                                             \n",
      "                                                                 \n",
      " bidirectional_1 (Bidirecti  (None, 40, 160)           154240    \n",
      " onal)                                                           \n",
      "                                                                 \n",
      " global_max_pooling1d (Glob  (None, 160)               0         \n",
      " alMaxPooling1D)                                                 \n",
      "                                                                 \n",
      " dropout (Dropout)           (None, 160)               0         \n",
      "                                                                 \n",
      " dense (Dense)               (None, 64)                10304     \n",
      "                                                                 \n",
      " dropout_1 (Dropout)         (None, 64)                0         \n",
      "                                                                 \n",
      " dense_1 (Dense)             (None, 20)                1300      \n",
      "                                                                 \n",
      "=================================================================\n",
      "Total params: 8321620 (31.74 MB)\n",
      "Trainable params: 8321620 (31.74 MB)\n",
      "Non-trainable params: 0 (0.00 Byte)\n",
      "_________________________________________________________________\n"
     ]
    }
   ],
   "source": [
    "from tensorflow import keras\n",
    "\n",
    "model = keras.models.load_model(\"Model/BLSTM.h5\", compile=False)\n",
    "model.summary()"
   ]
  },
  {
   "cell_type": "code",
   "execution_count": null,
   "metadata": {},
   "outputs": [
    {
     "name": "stdout",
     "output_type": "stream",
     "text": [
      "1/1 [==============================] - 5s 5s/step\n"
     ]
    },
    {
     "data": {
      "text/html": [
       "<div>\n",
       "<style scoped>\n",
       "    .dataframe tbody tr th:only-of-type {\n",
       "        vertical-align: middle;\n",
       "    }\n",
       "\n",
       "    .dataframe tbody tr th {\n",
       "        vertical-align: top;\n",
       "    }\n",
       "\n",
       "    .dataframe thead th {\n",
       "        text-align: right;\n",
       "    }\n",
       "</style>\n",
       "<table border=\"1\" class=\"dataframe\">\n",
       "  <thead>\n",
       "    <tr style=\"text-align: right;\">\n",
       "      <th></th>\n",
       "      <th>Tweet</th>\n",
       "      <th>True</th>\n",
       "      <th>Predicted</th>\n",
       "    </tr>\n",
       "  </thead>\n",
       "  <tbody>\n",
       "    <tr>\n",
       "      <th>0</th>\n",
       "      <td>@ Bank Head, ATL</td>\n",
       "      <td>💯</td>\n",
       "      <td>💯</td>\n",
       "    </tr>\n",
       "    <tr>\n",
       "      <th>1</th>\n",
       "      <td>Thirsty? I vote for @user #5WeThePluggAllMy @ ...</td>\n",
       "      <td>💯</td>\n",
       "      <td>😎</td>\n",
       "    </tr>\n",
       "    <tr>\n",
       "      <th>2</th>\n",
       "      <td>After a long weekend of school work #supersoni...</td>\n",
       "      <td>😊</td>\n",
       "      <td>😊</td>\n",
       "    </tr>\n",
       "    <tr>\n",
       "      <th>3</th>\n",
       "      <td>Off to Greensboro. (@ Lexington, NC - @user in...</td>\n",
       "      <td>😉</td>\n",
       "      <td>😉</td>\n",
       "    </tr>\n",
       "    <tr>\n",
       "      <th>4</th>\n",
       "      <td>F$&amp;amp;k yeah!!! #jenga #colleaguelove #holida...</td>\n",
       "      <td>😎</td>\n",
       "      <td>😎</td>\n",
       "    </tr>\n",
       "    <tr>\n",
       "      <th>5</th>\n",
       "      <td>The atmosphere here is crazy #EastRiverDerby #...</td>\n",
       "      <td>🔥</td>\n",
       "      <td>🔥</td>\n",
       "    </tr>\n",
       "    <tr>\n",
       "      <th>6</th>\n",
       "      <td>#ChineseNewYear! Wishing you prosperity and go...</td>\n",
       "      <td>❤️</td>\n",
       "      <td>❤️</td>\n",
       "    </tr>\n",
       "    <tr>\n",
       "      <th>7</th>\n",
       "      <td>Styled by @user pic by envoyphotography set up...</td>\n",
       "      <td>🔥</td>\n",
       "      <td>🔥</td>\n",
       "    </tr>\n",
       "    <tr>\n",
       "      <th>8</th>\n",
       "      <td>The Happiest Place on Earth @ Sleeping Beauty ...</td>\n",
       "      <td>✨</td>\n",
       "      <td>✨</td>\n",
       "    </tr>\n",
       "    <tr>\n",
       "      <th>9</th>\n",
       "      <td>Nut gang @ Fuji Steakhouse TN</td>\n",
       "      <td>🔥</td>\n",
       "      <td>🔥</td>\n",
       "    </tr>\n",
       "    <tr>\n",
       "      <th>10</th>\n",
       "      <td>We are #thankful for all of our #supporting co...</td>\n",
       "      <td>❤️</td>\n",
       "      <td>❤️</td>\n",
       "    </tr>\n",
       "    <tr>\n",
       "      <th>11</th>\n",
       "      <td>Good morning and Happy 4th of July Weekend fro...</td>\n",
       "      <td>🇺🇸</td>\n",
       "      <td>🇺🇸</td>\n",
       "    </tr>\n",
       "    <tr>\n",
       "      <th>12</th>\n",
       "      <td>Just in.. #makeup #drugstoremakeup #maquiagem ...</td>\n",
       "      <td>😍</td>\n",
       "      <td>😍</td>\n",
       "    </tr>\n",
       "    <tr>\n",
       "      <th>13</th>\n",
       "      <td>Always a good time when mama Murph is here @ A...</td>\n",
       "      <td>❤️</td>\n",
       "      <td>☀️</td>\n",
       "    </tr>\n",
       "    <tr>\n",
       "      <th>14</th>\n",
       "      <td>Loved these heart-shaped waffles for our first...</td>\n",
       "      <td>💕</td>\n",
       "      <td>❤️</td>\n",
       "    </tr>\n",
       "    <tr>\n",
       "      <th>15</th>\n",
       "      <td>Just chilling with my addyslove #SixFlags #Mag...</td>\n",
       "      <td>❤️</td>\n",
       "      <td>❤️</td>\n",
       "    </tr>\n",
       "    <tr>\n",
       "      <th>16</th>\n",
       "      <td>My sign says YOLO @ Willowdale Estate</td>\n",
       "      <td>❤️</td>\n",
       "      <td>❤️</td>\n",
       "    </tr>\n",
       "    <tr>\n",
       "      <th>17</th>\n",
       "      <td>spring break is a small glimpse of summer|| @ ...</td>\n",
       "      <td>☀️</td>\n",
       "      <td>☀️</td>\n",
       "    </tr>\n",
       "    <tr>\n",
       "      <th>18</th>\n",
       "      <td>Still a Phillies fan though @ Pittsburgh Baseb...</td>\n",
       "      <td>💕</td>\n",
       "      <td>💕</td>\n",
       "    </tr>\n",
       "    <tr>\n",
       "      <th>19</th>\n",
       "      <td>Friday feelings &amp;amp; summer plans with Krysta...</td>\n",
       "      <td>✨</td>\n",
       "      <td>✨</td>\n",
       "    </tr>\n",
       "    <tr>\n",
       "      <th>20</th>\n",
       "      <td>Can't believe you are 3 already! Happy Birthda...</td>\n",
       "      <td>❤️</td>\n",
       "      <td>❤️</td>\n",
       "    </tr>\n",
       "    <tr>\n",
       "      <th>21</th>\n",
       "      <td>This is what weekends are all about #missphill...</td>\n",
       "      <td>❤️</td>\n",
       "      <td>❤️</td>\n",
       "    </tr>\n",
       "    <tr>\n",
       "      <th>22</th>\n",
       "      <td>Actually really like this weather</td>\n",
       "      <td>😊</td>\n",
       "      <td>😂</td>\n",
       "    </tr>\n",
       "    <tr>\n",
       "      <th>23</th>\n",
       "      <td>dude I AM SO IN LOVE WITH YOU @ Good Karma</td>\n",
       "      <td>😘</td>\n",
       "      <td>😘</td>\n",
       "    </tr>\n",
       "    <tr>\n",
       "      <th>24</th>\n",
       "      <td>I'm one lucky lady to have had this guy in my ...</td>\n",
       "      <td>❤️</td>\n",
       "      <td>😊</td>\n",
       "    </tr>\n",
       "    <tr>\n",
       "      <th>25</th>\n",
       "      <td>Marriage is a beautiful thing. @ Bakersfield, ...</td>\n",
       "      <td>😁</td>\n",
       "      <td>😁</td>\n",
       "    </tr>\n",
       "    <tr>\n",
       "      <th>26</th>\n",
       "      <td>Summer love #famjam time @ Shawnigan Lake, Van...</td>\n",
       "      <td>✨</td>\n",
       "      <td>✨</td>\n",
       "    </tr>\n",
       "    <tr>\n",
       "      <th>27</th>\n",
       "      <td>Congratulations Natalie and Luke! Your smiles ...</td>\n",
       "      <td>😎</td>\n",
       "      <td>😎</td>\n",
       "    </tr>\n",
       "    <tr>\n",
       "      <th>28</th>\n",
       "      <td>️ @ Anantachin Buddhist Monastery Inc</td>\n",
       "      <td>❤️</td>\n",
       "      <td>❤️</td>\n",
       "    </tr>\n",
       "    <tr>\n",
       "      <th>29</th>\n",
       "      <td>It appears I live on Blue Jay way #naturelover...</td>\n",
       "      <td>❤️</td>\n",
       "      <td>❤️</td>\n",
       "    </tr>\n",
       "  </tbody>\n",
       "</table>\n",
       "</div>"
      ],
      "text/plain": [
       "                                                Tweet True Predicted\n",
       "0                                    @ Bank Head, ATL    💯         💯\n",
       "1   Thirsty? I vote for @user #5WeThePluggAllMy @ ...    💯         😎\n",
       "2   After a long weekend of school work #supersoni...    😊         😊\n",
       "3   Off to Greensboro. (@ Lexington, NC - @user in...    😉         😉\n",
       "4   F$&amp;k yeah!!! #jenga #colleaguelove #holida...    😎         😎\n",
       "5   The atmosphere here is crazy #EastRiverDerby #...    🔥         🔥\n",
       "6   #ChineseNewYear! Wishing you prosperity and go...   ❤️        ❤️\n",
       "7   Styled by @user pic by envoyphotography set up...    🔥         🔥\n",
       "8   The Happiest Place on Earth @ Sleeping Beauty ...    ✨         ✨\n",
       "9                       Nut gang @ Fuji Steakhouse TN    🔥         🔥\n",
       "10  We are #thankful for all of our #supporting co...   ❤️        ❤️\n",
       "11  Good morning and Happy 4th of July Weekend fro...   🇺🇸        🇺🇸\n",
       "12  Just in.. #makeup #drugstoremakeup #maquiagem ...    😍         😍\n",
       "13  Always a good time when mama Murph is here @ A...   ❤️        ☀️\n",
       "14  Loved these heart-shaped waffles for our first...    💕        ❤️\n",
       "15  Just chilling with my addyslove #SixFlags #Mag...   ❤️        ❤️\n",
       "16              My sign says YOLO @ Willowdale Estate   ❤️        ❤️\n",
       "17  spring break is a small glimpse of summer|| @ ...   ☀️        ☀️\n",
       "18  Still a Phillies fan though @ Pittsburgh Baseb...    💕         💕\n",
       "19  Friday feelings &amp; summer plans with Krysta...    ✨         ✨\n",
       "20  Can't believe you are 3 already! Happy Birthda...   ❤️        ❤️\n",
       "21  This is what weekends are all about #missphill...   ❤️        ❤️\n",
       "22                  Actually really like this weather    😊         😂\n",
       "23         dude I AM SO IN LOVE WITH YOU @ Good Karma    😘         😘\n",
       "24  I'm one lucky lady to have had this guy in my ...   ❤️         😊\n",
       "25  Marriage is a beautiful thing. @ Bakersfield, ...    😁         😁\n",
       "26  Summer love #famjam time @ Shawnigan Lake, Van...    ✨         ✨\n",
       "27  Congratulations Natalie and Luke! Your smiles ...    😎         😎\n",
       "28              ️ @ Anantachin Buddhist Monastery Inc   ❤️        ❤️\n",
       "29  It appears I live on Blue Jay way #naturelover...   ❤️        ❤️"
      ]
     },
     "metadata": {},
     "output_type": "display_data"
    }
   ],
   "source": [
    "X_sequences = preprocess_text(X)\n",
    "predictions = np.argmax(model.predict(X_sequences), axis=1)\n",
    "\n",
    "y_map = [emoji_dict[idx] for idx in y]\n",
    "predictions = [emoji_dict[idx] for idx in predictions]\n",
    "\n",
    "results = pd.DataFrame({\"Tweet\":X})\n",
    "results[\"True\"] = y_map\n",
    "results[\"Predicted\"] = predictions\n",
    "\n",
    "results"
   ]
  },
  {
   "cell_type": "code",
   "execution_count": null,
   "metadata": {},
   "outputs": [],
   "source": [
    "import string\n",
    "import re\n",
    "\n",
    "from tensorflow import keras\n",
    "emoji_predict_model = keras.models.load_model(\"Model/BLSTM.h5\", compile=False)\n",
    "\n",
    "\n",
    "def tweet_clean(tweet):\n",
    "    tweet = str(tweet).lower()\n",
    "    rm_mention = re.sub(r'@[A-Za-z0-9]+', '', tweet)                       # remove @mentions\n",
    "    rm_rt = re.sub(r'RT[/s]+', '', rm_mention)                             # remove RT\n",
    "    rm_links = re.sub(r'http\\S+', '', rm_rt)                               # remove hyperlinks\n",
    "    rm_links = re.sub(r'https?:\\/\\/\\S+','', rm_links)\n",
    "    rm_nums = re.sub('[0-9]+', '', rm_links)                               # remove numbers\n",
    "    rm_punc = [char for char in rm_nums if char not in string.punctuation] # remove punctuations\n",
    "    rm_punc = ''.join(rm_punc)\n",
    "    cleaned = rm_punc\n",
    "    \n",
    "    return cleaned\n",
    "\n",
    "\n",
    "def predict_emoji(text, model=emoji_predict_model):\n",
    "    text = tweet_clean(text)\n",
    "    X_sequences = preprocess_text([text])\n",
    "    predictions = np.argmax(model.predict(X_sequences), axis=1)\n",
    "    emoji_idx = predictions[0]\n",
    "    emoji = emoji_dict[emoji_idx]\n",
    "    \n",
    "    return emoji"
   ]
  },
  {
   "cell_type": "code",
   "execution_count": null,
   "metadata": {},
   "outputs": [
    {
     "name": "stdout",
     "output_type": "stream",
     "text": [
      "\n",
      "\n",
      " Most likely emoji of the tweet \n",
      "\n",
      "\n",
      "1/1 [==============================] - 0s 55ms/step\n",
      "dude I AM SO IN LOVE WITH YOU @ Good Karma 😘\n"
     ]
    }
   ],
   "source": [
    "text = input(\"Enter tweet \\n\\n\")\n",
    "\n",
    "print(\"\\n\\n Most likely emoji of the tweet \\n\\n\")\n",
    "print(text+\" \"+predict_emoji(text))"
   ]
  },
  {
   "cell_type": "code",
   "execution_count": null,
   "metadata": {},
   "outputs": [
    {
     "name": "stdout",
     "output_type": "stream",
     "text": [
      "\n",
      "\n",
      " Most leikely emojin of the Tweet \n",
      "\n",
      "\n",
      "1/1 [==============================] - 0s 69ms/step\n",
      "funny 😂\n"
     ]
    }
   ],
   "source": [
    "text = input(\"Enter tweet \\n\\n\")\n",
    "\n",
    "print(\"\\n\\n Most leikely emojin of the Tweet \\n\\n\")\n",
    "print(text+\" \"+predict_emoji(text))"
   ]
  },
  {
   "cell_type": "code",
   "execution_count": null,
   "metadata": {},
   "outputs": [
    {
     "name": "stdout",
     "output_type": "stream",
     "text": [
      "\n",
      "\n",
      " most like emojy for this tweet \n",
      "\n",
      "\n",
      "1/1 [==============================] - 0s 59ms/step\n",
      "food 😍\n"
     ]
    }
   ],
   "source": [
    "text = input(\"Enter tweet \\n\\n\")\n",
    "\n",
    "print(\"\\n\\n most like emojy for this tweet \\n\\n\")\n",
    "print(text+\" \"+predict_emoji(text))"
   ]
  },
  {
   "cell_type": "code",
   "execution_count": null,
   "metadata": {},
   "outputs": [
    {
     "name": "stdout",
     "output_type": "stream",
     "text": [
      "\n",
      "\n",
      " Most likely emoji of this tweet \n",
      "\n",
      "\n",
      "1/1 [==============================] - 0s 60ms/step\n",
      "lets hope the wildfires ceases 🔥\n"
     ]
    }
   ],
   "source": [
    "text = input(\"Enter tweet \\n\\n\")\n",
    "\n",
    "print(\"\\n\\n Most likely emoji of this tweet \\n\\n\")\n",
    "print(text+\" \"+predict_emoji(text))"
   ]
  },
  {
   "cell_type": "code",
   "execution_count": null,
   "metadata": {},
   "outputs": [
    {
     "name": "stdout",
     "output_type": "stream",
     "text": [
      "\n",
      "\n",
      " Most likely emoji of this tweet \n",
      "\n",
      "\n",
      "1/1 [==============================] - 0s 54ms/step\n",
      "This is so funny i couldnt stop laughing 😂\n"
     ]
    }
   ],
   "source": [
    "text = input(\"Enter tweet \\n\\n\")\n",
    "\n",
    "print(\"\\n\\n Most likely emoji of this tweet \\n\\n\")\n",
    "print(text+\" \"+predict_emoji(text))"
   ]
  },
  {
   "cell_type": "code",
   "execution_count": null,
   "metadata": {},
   "outputs": [],
   "source": []
  }
 ],
 "metadata": {
  "kernelspec": {
   "display_name": "Python 3",
   "language": "python",
   "name": "python3"
  },
  "language_info": {
   "codemirror_mode": {
    "name": "ipython",
    "version": 3
   },
   "file_extension": ".py",
   "mimetype": "text/x-python",
   "name": "python",
   "nbconvert_exporter": "python",
   "pygments_lexer": "ipython3",
   "version": "3.11.5"
  }
 },
 "nbformat": 4,
 "nbformat_minor": 2
}
